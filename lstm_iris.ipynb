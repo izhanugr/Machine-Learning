{
 "cells": [
  {
   "cell_type": "code",
   "execution_count": 8,
   "metadata": {},
   "outputs": [],
   "source": [
    "import numpy as np\n",
    "import pandas as pd\n",
    "import matplotlib.pyplot as plt\n",
    "import os\n",
    "import seaborn as sns\n",
    "\n",
    "from sklearn.metrics import confusion_matrix, ConfusionMatrixDisplay\n",
    "from sklearn.preprocessing import LabelEncoder\n",
    "from sklearn.model_selection import train_test_split\n",
    "\n",
    "import torch\n",
    "import torch.nn as nn\n",
    "import torch.optim as optim\n",
    "from torch.utils.data import DataLoader, TensorDataset\n",
    "\n",
    "%matplotlib widget"
   ]
  },
  {
   "cell_type": "markdown",
   "metadata": {},
   "source": [
    "## Memeriksa ketersedian CUDA\n",
    "CUDA memanfaatkan komputasi pemrogramam paralel dengan menggunakan GPU"
   ]
  },
  {
   "cell_type": "code",
   "execution_count": 9,
   "metadata": {},
   "outputs": [
    {
     "name": "stdout",
     "output_type": "stream",
     "text": [
      "Komputasi menggunakan cuda...\n"
     ]
    }
   ],
   "source": [
    "if torch.cuda.is_available():\n",
    "    dev = 'cuda'\n",
    "else:\n",
    "    dev = 'cpu'\n",
    "\n",
    "device = torch.device(dev)\n",
    "print(f'Komputasi menggunakan {dev}...') "
   ]
  },
  {
   "cell_type": "markdown",
   "metadata": {},
   "source": [
    "## Memuat Data\n",
    "Memuat data, kemudian dibagi menjadi 3 bagian training set, validation set, test set."
   ]
  },
  {
   "cell_type": "code",
   "execution_count": 10,
   "metadata": {},
   "outputs": [],
   "source": [
    "# Memuat data Iris.csv\n",
    "def get_data(path):\n",
    "    path = '../machinel/data/Iris.csv'\n",
    "\n",
    "    df = pd.read_csv(path)\n",
    "    X = df.iloc[:,1:5].values\n",
    "    X = torch.tensor(X, dtype=torch.float32)\n",
    "\n",
    "    y = df.Species\n",
    "    enc = LabelEncoder()\n",
    "    y = enc.fit_transform(y)\n",
    "    y = torch.from_numpy(y).type(torch.LongTensor)\n",
    "    return X, y\n",
    "\n",
    "# Membagi dataset menjadi 3 bagian: training, validation, dan test set.\n",
    "\n",
    "def split_data(X, y, b_size):\n",
    "    training, test_x, training_label, test_y = train_test_split(X,y, test_size=0.2, random_state=42)\n",
    "    train_x, val_x, train_y, val_y = train_test_split(training, training_label, test_size=0.2, random_state=42)\n",
    "\n",
    "    train = TensorDataset(train_x, train_y)\n",
    "    val = TensorDataset(val_x, val_y)\n",
    "    test = TensorDataset(test_x, test_y)\n",
    "\n",
    "    train_loader = DataLoader(train, batch_size=b_size)\n",
    "    val_loader = DataLoader(val, batch_size=b_size)\n",
    "    test_loader = DataLoader(test, batch_size=b_size)\n",
    "\n",
    "    print(f'train size: {len(train_loader.dataset)}, val size: {len(val_loader.dataset)}, test size: {len(test_loader.dataset)}')\n",
    "    print(f'train num bacthes: {len(train_loader)}, val : {len(val_loader)}, test : {len(test_loader)}')\n",
    "    return train_loader, val_loader, test_loader"
   ]
  },
  {
   "cell_type": "markdown",
   "metadata": {},
   "source": [
    "## Membangun arsitektur model LSTM"
   ]
  },
  {
   "cell_type": "code",
   "execution_count": null,
   "metadata": {},
   "outputs": [],
   "source": [
    "class Lstmiris(nn.Module):\n",
    "    def __init__(self,input_dim, hidden_dim, layer_dim, output_dim):\n",
    "        super().__init__()\n",
    "\n",
    "        #hidden dim\n",
    "        self.hidden_dim = hidden_dim\n",
    "\n",
    "        #number of hidden layers\n",
    "        self.layer_dim = layer_dim\n",
    "\n",
    "        #LSTM\n",
    "        self.lstm = nn.LSTM(input_dim, hidden_dim, layer_dim, dropout=0.2, batch_first=True)\n",
    "\n",
    "        #readout layer\n",
    "        self.fc = nn.Linear(hidden_dim, output_dim)\n",
    "        self.dropout = nn.Dropout(0.2)\n",
    "\n",
    "    def forward(self, x):\n",
    "        # Initialize hidden state with zeros\n",
    "        h0 = torch.zeros(self.layer_dim, x.size(0), self.hidden_dim).requires_grad_()\n",
    "\n",
    "        # Initialize cell state\n",
    "        c0 = torch.zeros(self.layer_dim, x.size(0), self.hidden_dim).requires_grad_()\n",
    "\n",
    "        # time steps\n",
    "        # We need to detach as we are doing truncated backpropagation through time (BPTT)\n",
    "        # If we don't, we'll backprop all the way to the start even after going through another batch\n",
    "        out, (hn, cn) = self.lstm(x, (h0.detach(), c0.detach()))\n",
    "\n",
    "        # Index hidden state of last time step\n",
    "        # out.size() --> 100, 28, 100\n",
    "        # out[:, -1, :] --> 100, 100 --> just want last time step hidden states! \n",
    "        out = self.fc(out[:, -1, :])\n",
    "        out = self.dropout(out)\n",
    "        # out.size() --> 100, 10\n",
    "        #print(out.size())\n",
    "        return out"
   ]
  },
  {
   "cell_type": "markdown",
   "metadata": {},
   "source": [
    "## Menampilkan Confusion Matrix"
   ]
  },
  {
   "cell_type": "code",
   "execution_count": null,
   "metadata": {},
   "outputs": [],
   "source": []
  },
  {
   "cell_type": "markdown",
   "metadata": {},
   "source": [
    "## Tahap Training"
   ]
  },
  {
   "cell_type": "code",
   "execution_count": null,
   "metadata": {},
   "outputs": [],
   "source": []
  },
  {
   "cell_type": "markdown",
   "metadata": {},
   "source": [
    "## Tahap Validasi dan Uji"
   ]
  },
  {
   "cell_type": "markdown",
   "metadata": {},
   "source": [
    "## Main Program"
   ]
  },
  {
   "cell_type": "code",
   "execution_count": 11,
   "metadata": {},
   "outputs": [
    {
     "name": "stdout",
     "output_type": "stream",
     "text": [
      "train size: 96, val size: 24, test size: 30\n",
      "train num bacthes: 20, val : 5, test : 6\n"
     ]
    }
   ],
   "source": [
    "# memuat data\n",
    "path = '../machinel/data/Iris.csv'\n",
    "X, y = get_data(path)\n",
    "\n",
    "\n",
    "#split data\n",
    "batch_size = 5\n",
    "train, val, test = split_data(X, y, batch_size)\n",
    "# memulai training\n",
    "#training\n",
    "#validation\n",
    "\n",
    "#done"
   ]
  },
  {
   "cell_type": "markdown",
   "metadata": {},
   "source": [
    "## Menampilkan plot untuk accuracy & loss dari model"
   ]
  },
  {
   "cell_type": "markdown",
   "metadata": {},
   "source": [
    "## Melakukan pengujian dengan test set"
   ]
  }
 ],
 "metadata": {
  "kernelspec": {
   "display_name": "base",
   "language": "python",
   "name": "python3"
  },
  "language_info": {
   "codemirror_mode": {
    "name": "ipython",
    "version": 3
   },
   "file_extension": ".py",
   "mimetype": "text/x-python",
   "name": "python",
   "nbconvert_exporter": "python",
   "pygments_lexer": "ipython3",
   "version": "3.11.5"
  }
 },
 "nbformat": 4,
 "nbformat_minor": 2
}
