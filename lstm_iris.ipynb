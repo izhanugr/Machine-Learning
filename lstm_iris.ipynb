{
 "cells": [
  {
   "cell_type": "code",
   "execution_count": 21,
   "metadata": {},
   "outputs": [],
   "source": [
    "import numpy as np\n",
    "import pandas as pd\n",
    "import matplotlib.pyplot as plt\n",
    "import os\n",
    "import seaborn as sns\n",
    "\n",
    "from sklearn.metrics import confusion_matrix, ConfusionMatrixDisplay\n",
    "from sklearn.preprocessing import LabelEncoder\n",
    "from sklearn.model_selection import train_test_split\n",
    "\n",
    "import torch\n",
    "import torch.nn as nn\n",
    "import torch.optim as optim\n",
    "from torch.utils.data import DataLoader, TensorDataset\n",
    "\n",
    "%matplotlib widget"
   ]
  },
  {
   "cell_type": "markdown",
   "metadata": {},
   "source": [
    "## Memeriksa ketersedian CUDA\n",
    "CUDA memanfaatkan komputasi pemrogramam paralel dengan menggunakan GPU"
   ]
  },
  {
   "cell_type": "code",
   "execution_count": 3,
   "metadata": {},
   "outputs": [
    {
     "name": "stdout",
     "output_type": "stream",
     "text": [
      "Komputasi menggunakan cuda...\n"
     ]
    }
   ],
   "source": [
    "if torch.cuda.is_available():\n",
    "    dev = 'cuda'\n",
    "else:\n",
    "    dev = 'cpu'\n",
    "\n",
    "device = torch.device(dev)\n",
    "print(f'Komputasi menggunakan {dev}...') "
   ]
  },
  {
   "cell_type": "markdown",
   "metadata": {},
   "source": [
    "## Memuat Data\n",
    "Memuat data, kemudian dibagi menjadi 3 bagian training set, validation set, test set."
   ]
  },
  {
   "cell_type": "code",
   "execution_count": 22,
   "metadata": {},
   "outputs": [],
   "source": [
    "# Memuat data Iris.csv\n",
    "def get_data(path):\n",
    "    path = '../machinel/data/Iris.csv'\n",
    "\n",
    "    df = pd.read_csv(path)\n",
    "    X = df.iloc[:,1:5].values\n",
    "    X = torch.tensor(X, dtype=torch.float32)\n",
    "\n",
    "    y = df.Species\n",
    "    enc = LabelEncoder()\n",
    "    y = enc.fit_transform(y)\n",
    "    y = torch.from_numpy(y).type(torch.LongTensor)\n",
    "    return X, y\n",
    "\n",
    "# Membagi dataset menjadi 3 bagian: training, validation, dan test set.\n",
    "\n",
    "def split_data(X, y, b_size):\n",
    "    training, test_x, training_label, test_y = train_test_split(X,y, test_size=0.2, random_state=42)\n",
    "    train_x, val_x, train_y, val_y = train_test_split(training, training_label, test_size=0.2, random_state=42)\n",
    "\n",
    "    train = TensorDataset(train_x, train_y)\n",
    "    val = TensorDataset(val_x, val_y)\n",
    "    test = TensorDataset(test_x, test_y)\n",
    "\n",
    "    train_loader = DataLoader(train, batch_size=b_size, shuffle=False)\n",
    "    val_loader = DataLoader(val, batch_size=b_size, shuffle=False)\n",
    "    test_loader = DataLoader(test, batch_size=b_size, shuffle=False)\n",
    "\n",
    "    print(f'train size: {len(train_loader.dataset)}, val size: {len(val_loader.dataset)}, test size: {len(test_loader.dataset)}')\n",
    "    print(f'train num bacthes: {len(train_loader)}, val : {len(val_loader)}, test : {len(test_loader)}')\n",
    "    return train_loader, val_loader, test_loader"
   ]
  },
  {
   "cell_type": "markdown",
   "metadata": {},
   "source": [
    "## Membangun arsitektur model LSTM"
   ]
  },
  {
   "cell_type": "code",
   "execution_count": null,
   "metadata": {},
   "outputs": [],
   "source": [
    "class iris_lstm(nn.Module):\n",
    "    def __init__(self,)\n",
    "        \n",
    "    def forward(self, x):\n",
    "        return "
   ]
  },
  {
   "cell_type": "markdown",
   "metadata": {},
   "source": [
    "## Menampilkan Confusion Matrix"
   ]
  },
  {
   "cell_type": "markdown",
   "metadata": {},
   "source": [
    "## Tahap Training"
   ]
  },
  {
   "cell_type": "markdown",
   "metadata": {},
   "source": [
    "## Tahap Validasi dan Uji"
   ]
  },
  {
   "cell_type": "markdown",
   "metadata": {},
   "source": [
    "## Main Program"
   ]
  },
  {
   "cell_type": "code",
   "execution_count": 23,
   "metadata": {},
   "outputs": [
    {
     "name": "stdout",
     "output_type": "stream",
     "text": [
      "train size: 96, val size: 24, test size: 30\n",
      "train num bacthes: 20, val : 5, test : 6\n"
     ]
    }
   ],
   "source": [
    "# memuat data\n",
    "path = '../machinel/data/Iris.csv'\n",
    "X, y = get_data(path)\n",
    "\n",
    "\n",
    "#split data\n",
    "batch_size = 5\n",
    "train, val, test = split_data(X, y, batch_size)\n",
    "# memulai training\n",
    "#training\n",
    "#validation\n",
    "\n",
    "#done"
   ]
  },
  {
   "cell_type": "markdown",
   "metadata": {},
   "source": [
    "## Menampilkan plot untuk accuracy & loss dari model"
   ]
  },
  {
   "cell_type": "markdown",
   "metadata": {},
   "source": [
    "## Melakukan pengujian dengan test set"
   ]
  },
  {
   "cell_type": "markdown",
   "metadata": {},
   "source": []
  }
 ],
 "metadata": {
  "kernelspec": {
   "display_name": "base",
   "language": "python",
   "name": "python3"
  },
  "language_info": {
   "codemirror_mode": {
    "name": "ipython",
    "version": 3
   },
   "file_extension": ".py",
   "mimetype": "text/x-python",
   "name": "python",
   "nbconvert_exporter": "python",
   "pygments_lexer": "ipython3",
   "version": "3.11.5"
  }
 },
 "nbformat": 4,
 "nbformat_minor": 2
}
