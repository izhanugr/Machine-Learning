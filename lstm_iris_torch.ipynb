{
 "cells": [
  {
   "cell_type": "code",
   "execution_count": null,
   "metadata": {},
   "outputs": [],
   "source": [
    "import numpy as np\n",
    "import pandas as pd\n",
    "import matplotlib.pyplot as plt\n",
    "import os\n",
    "import seaborn as sns\n",
    "\n",
    "from sklearn.metrics import confusion_matrix, ConfusionMatrixDisplay\n",
    "from sklearn.preprocessing import LabelEncoder\n",
    "from sklearn.model_selection import train_test_split\n",
    "\n",
    "import torch\n",
    "import torch.nn as nn\n",
    "import torch.optim as optim\n",
    "from torch.utils.data import DataLoader, TensorDataset\n",
    "\n",
    "%matplotlib widget"
   ]
  },
  {
   "cell_type": "markdown",
   "metadata": {},
   "source": [
    "## Memeriksa ketersedian CUDA\n",
    "CUDA memanfaatkan komputasi pemrogramam paralel dengan menggunakan GPU"
   ]
  },
  {
   "cell_type": "code",
   "execution_count": null,
   "metadata": {},
   "outputs": [],
   "source": [
    "if torch.cuda.is_available():\n",
    "    dev = 'cuda'\n",
    "else:\n",
    "    dev = 'cpu'\n",
    "\n",
    "device = torch.device(dev)\n",
    "print(f'Komputasi menggunakan {dev}...') "
   ]
  },
  {
   "cell_type": "markdown",
   "metadata": {},
   "source": [
    "## Memuat Data\n",
    "Memuat data, kemudian dibagi menjadi 3 bagian training set, validation set, test set."
   ]
  },
  {
   "cell_type": "code",
   "execution_count": null,
   "metadata": {},
   "outputs": [],
   "source": [
    "# Memuat data Iris.csv\n",
    "def get_data(path):\n",
    "    path = '../machinel/data/Iris.csv'\n",
    "\n",
    "    df = pd.read_csv(path)\n",
    "    X = df.iloc[:,1:5].values\n",
    "    X = torch.tensor(X, dtype=torch.float32)\n",
    "\n",
    "    y = df.Species\n",
    "    enc = LabelEncoder()\n",
    "    y = enc.fit_transform(y)\n",
    "    y = torch.from_numpy(y).type(torch.LongTensor)\n",
    "    return X, y\n",
    "\n",
    "# Membagi dataset menjadi 3 bagian: training, validation, dan test set.\n",
    "\n",
    "def split_data(X, y, b_size):\n",
    "    training, test_x, training_label, test_y = train_test_split(X,y, test_size=0.2, random_state=42)\n",
    "    train_x, val_x, train_y, val_y = train_test_split(training, training_label, test_size=0.2, random_state=42)\n",
    "\n",
    "    train = TensorDataset(train_x, train_y)\n",
    "    val = TensorDataset(val_x, val_y)\n",
    "    test = TensorDataset(test_x, test_y)\n",
    "\n",
    "    train_loader = DataLoader(train, batch_size=b_size)\n",
    "    val_loader = DataLoader(val, batch_size=b_size)\n",
    "    test_loader = DataLoader(test, batch_size=b_size)\n",
    "\n",
    "    print(f'train size: {len(train_loader.dataset)}, val size: {len(val_loader.dataset)}, test size: {len(test_loader.dataset)}')\n",
    "    print(f'train num bacthes: {len(train_loader)}, val : {len(val_loader)}, test : {len(test_loader)}')\n",
    "    return train_loader, val_loader, test_loader"
   ]
  },
  {
   "cell_type": "markdown",
   "metadata": {},
   "source": [
    "## Membangun arsitektur model LSTM"
   ]
  },
  {
   "cell_type": "code",
   "execution_count": null,
   "metadata": {},
   "outputs": [],
   "source": [
    "class Lstmiris(nn.Module):\n",
    "    def __init__(self,input_dim, hidden_dim, layer_dim, output_dim):\n",
    "        super().__init__()\n",
    "\n",
    "        #hidden dim\n",
    "        self.hidden_dim = hidden_dim\n",
    "\n",
    "        #number of hidden layers\n",
    "        self.layer_dim = layer_dim\n",
    "\n",
    "        #LSTM\n",
    "        self.lstm = nn.LSTM(input_dim, hidden_dim, layer_dim, dropout=0.2, batch_first=True).to(device)\n",
    "\n",
    "        #readout layer\n",
    "        self.fc = nn.Linear(hidden_dim, output_dim).to(device)\n",
    "        self.dropout = nn.Dropout(0.2)\n",
    "\n",
    "    def forward(self, x):\n",
    "        # Initialize hidden state with zeros\n",
    "        h0 = torch.zeros(self.layer_dim, x.size(0), self.hidden_dim).to(device)\n",
    "\n",
    "        # Initialize cell state\n",
    "        c0 = torch.zeros(self.layer_dim, x.size(0), self.hidden_dim).to(device)\n",
    "\n",
    "        # time steps\n",
    "        # We need to detach as we are doing truncated backpropagation through time (BPTT)\n",
    "        # If we don't, we'll backprop all the way to the start even after going through another batch\n",
    "        out, (hn, cn) = self.lstm(x, (h0.detach(), c0.detach()))\n",
    "\n",
    "        # Index hidden state of last time step\n",
    "        # out.size() --> 100, 28, 100\n",
    "        # out[:, -1, :] --> 100, 100 --> just want last time step hidden states! \n",
    "        out = self.fc(out[:, -1, :])\n",
    "        out = self.dropout(out)\n",
    "        # out.size() --> 100, 10\n",
    "        #print(out.size())\n",
    "        return out"
   ]
  },
  {
   "cell_type": "markdown",
   "metadata": {},
   "source": [
    "## Menampilkan Confusion Matrix"
   ]
  },
  {
   "cell_type": "code",
   "execution_count": null,
   "metadata": {},
   "outputs": [],
   "source": [
    "def cm_display(pred, target):\n",
    "    cm = confusion_matrix(pred, target)\n",
    "    label_dict = ['setosa', 'versicolor', 'virginica']\n",
    "    fig, ax = plt.subplots(figsize=(5, 5))\n",
    "    ConfusionMatrixDisplay(cm, display_labels=[label_dict[i] for i in range(3)]).plot(ax=ax, cmap='Blues')\n",
    "    plt.show()"
   ]
  },
  {
   "cell_type": "markdown",
   "metadata": {},
   "source": [
    "## Tahap Training"
   ]
  },
  {
   "cell_type": "markdown",
   "metadata": {},
   "source": [
    "#train the model\n",
    "def train_model(dataloader, model, loss_fn, optimizer, batch_size):\n",
    "    size = len(dataloader.dataset)\n",
    "    num_batches = len(dataloader)\n",
    "    train_loss, correct = 0, 0\n",
    "    model.train()\n",
    "    for count, (X, y) in enumerate(dataloader):\n",
    "        #activate cuda, reshape\n",
    "        X = X.to(device)\n",
    "        X = X.view(-1,1,4)\n",
    "        y = y.to(device)\n",
    "\n",
    "        #forward propagation, compute prediction and loss\n",
    "        pred = model(X)\n",
    "        loss = loss_fn(pred, y)\n",
    "\n",
    "        #Backpropagation\n",
    "        loss.backward()\n",
    "        optimizer.step()\n",
    "        optimizer.zero_grad()\n",
    "\n",
    "        train_loss +=loss\n",
    "        correct += (pred.argmax(1) == y).type(torch.float).sum().item()\n",
    "\n",
    "        if (count+1) % 5 == 0:\n",
    "            loss, current = loss.item(), count * batch_size + len(X)\n",
    "            print(f'loss: {loss} [{current}/{size}]')\n",
    "            \n",
    "    train_loss /= num_batches\n",
    "    correct /= size\n",
    "    print(f'Train: Accuracy: {(100*correct):>0.1f}%, Avg loss: {train_loss}')"
   ]
  },
  {
   "cell_type": "markdown",
   "metadata": {},
   "source": [
    "## Tahap Validasi dan Uji"
   ]
  },
  {
   "cell_type": "code",
   "execution_count": null,
   "metadata": {},
   "outputs": [],
   "source": [
    "def test_model(dataloader, model, loss_fn, mode='val'):\n",
    "    size = len(dataloader.dataset)\n",
    "    num_batches = len(dataloader)\n",
    "    test_loss, correct = 0, 0\n",
    "    model.eval()\n",
    "    pred_cm, lab_cm = [], []\n",
    "    \n",
    "    # Evaluating the model with torch.no_grad() ensures that no gradients are computed during test mode\n",
    "    with torch.no_grad():\n",
    "        for X, y in dataloader:\n",
    "            X = X.to(device)\n",
    "            X = X.view(-1,1,4)\n",
    "            y = y.to(device)\n",
    "            \n",
    "            pred = model(X)\n",
    "            loss = loss_fn(pred, y)\n",
    "            test_loss += loss.item()\n",
    "            tem_cor = pred.argmax(1)\n",
    "            correct += (tem_cor == y).type(torch.float).sum().item()\n",
    "            if mode=='test':\n",
    "                pred_cm.append(tem_cor.cpu().detach().numpy()) #yhat.detach().numpy()\n",
    "                lab_cm.append(y.cpu().detach().numpy())\n",
    "    \n",
    "    if mode=='test':\n",
    "        pred_cm = np.array(pred_cm)\n",
    "        lab_cm = np.array(lab_cm)\n",
    "        #pred_cm = pred_cm\n",
    "        #lab_cm = lab_cm\n",
    "        cm_display(pred_cm.flatten(), lab_cm.flatten())\n",
    "\n",
    "    test_loss /= num_batches\n",
    "    correct /= size\n",
    "    print(f'Test: Accuracy: {(100*correct):>0.1f}%, Avg loss: {test_loss}, Data Size: {size}')\n",
    "\n",
    "    return test_loss, correct"
   ]
  },
  {
   "cell_type": "markdown",
   "metadata": {},
   "source": [
    "## Menetapkan hyperparameter"
   ]
  },
  {
   "cell_type": "code",
   "execution_count": null,
   "metadata": {},
   "outputs": [],
   "source": [
    "#define the hyperparameter\n",
    "learning_rate = 1e-4\n",
    "epochs = 250\n",
    "input_dim = 4\n",
    "hidden_dim = 128\n",
    "layer_dim = 3\n",
    "output_dim = 3\n",
    "\n",
    "model = Lstmiris(input_dim, hidden_dim, layer_dim, output_dim) #(self,input_dim, hidden_dim, layer_dim, output_dim):\n",
    "model = model.to(device)\n",
    "loss_fn = nn.CrossEntropyLoss()\n",
    "optimizer = optim.Adamax(model.parameters(), lr=learning_rate)"
   ]
  },
  {
   "cell_type": "markdown",
   "metadata": {},
   "source": [
    "## Main Program"
   ]
  },
  {
   "cell_type": "code",
   "execution_count": null,
   "metadata": {},
   "outputs": [],
   "source": [
    "# memuat data\n",
    "path = '../machinel/data/Iris.csv'\n",
    "X, y = get_data(path)\n",
    "\n",
    "\n",
    "#split data\n",
    "batch_size = 5\n",
    "train, val, test = split_data(X, y, batch_size)\n",
    "# memulai training\n",
    "test_loss_hist, test_acc_hist, epoch_list = [],[],[]\n",
    "best_model = 0\n",
    "\n",
    "for t in range(epochs):\n",
    "    print(f'Epoch {t+1}\\n------------------------------')\n",
    "    train_model(train, model, loss_fn, optimizer, batch_size)\n",
    "    loss, accuracy = test_model(val, model, loss_fn)\n",
    "    if accuracy>best_model:\n",
    "        best_model=accuracy\n",
    "        print('Saving the model...')\n",
    "        torch.save(model.state_dict(), 'iris_model_lstm')\n",
    "    test_loss_hist.append(loss)\n",
    "    test_acc_hist.append(accuracy)\n",
    "    epoch_list.append(t)\n",
    "\n",
    "print('done!')\n",
    "\n",
    "#done"
   ]
  },
  {
   "cell_type": "markdown",
   "metadata": {},
   "source": [
    "## Menampilkan plot untuk accuracy & loss dari model"
   ]
  },
  {
   "cell_type": "code",
   "execution_count": null,
   "metadata": {},
   "outputs": [],
   "source": [
    "fig, ax = plt.subplots(2)\n",
    "fig.suptitle('Loss & Accuracy')\n",
    "ax[0].plot(epoch_list, test_loss_hist)\n",
    "ax[0].set_title('loss')\n",
    "ax[1].plot(epoch_list, test_acc_hist)\n",
    "ax[1].set_title('Accuracy')\n",
    "fig.tight_layout()\n",
    "plt.show()"
   ]
  },
  {
   "cell_type": "markdown",
   "metadata": {},
   "source": [
    "## Melakukan pengujian dengan test set"
   ]
  },
  {
   "cell_type": "code",
   "execution_count": null,
   "metadata": {},
   "outputs": [],
   "source": [
    "model.load_state_dict(torch.load('iris_model_lstm'))\n",
    "print(model.eval())\n",
    "\n",
    "loss, accuracy = test_model(test, model, loss_fn, mode='test')\n",
    "#display confusion matrix\n",
    "print('done!')"
   ]
  }
 ],
 "metadata": {
  "language_info": {
   "name": "python"
  }
 },
 "nbformat": 4,
 "nbformat_minor": 2
}
