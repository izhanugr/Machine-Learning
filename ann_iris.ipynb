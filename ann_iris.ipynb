{
 "cells": [
  {
   "cell_type": "code",
   "execution_count": 8,
   "metadata": {},
   "outputs": [],
   "source": [
    "#import libraries\n",
    "import pandas as pd\n",
    "import numpy as np\n",
    "import matplotlib.pyplot as plt\n",
    "import seaborn as sns\n",
    "\n",
    "from sklearn.preprocessing import StandardScaler, LabelEncoder\n",
    "from sklearn.metrics import confusion_matrix, ConfusionMatrixDisplay\n",
    "from sklearn.model_selection import train_test_split\n",
    "\n",
    "import torch\n",
    "import torch.nn as nn\n",
    "import torch.optim as optim\n",
    "from torch.utils.data import DataLoader, TensorDataset, Dataset\n",
    "\n",
    "\n",
    "%matplotlib widget"
   ]
  },
  {
   "cell_type": "code",
   "execution_count": 32,
   "metadata": {},
   "outputs": [],
   "source": [
    "#get data class\n",
    "class csvdataset(Dataset):\n",
    "    def __init__(self, path):\n",
    "        df_iris = pd.read_csv(path)\n",
    "        self.X = df_iris.iloc[:,1:5].values\n",
    "        self.X = torch.tensor(self.X, dtype=torch.float32)\n",
    "        enc = LabelEncoder()\n",
    "        self.y = enc.fit_transform(df_iris.Species)\n",
    "        self.y = torch.tensor(self.y, dtype=torch.float32)\n",
    "        \n",
    "    \n",
    "    def __len__(self):\n",
    "        return len(self.X)\n",
    "    \n",
    "    def __getitem__(self, index):\n",
    "        return self.X[index], self.y[index]\n"
   ]
  },
  {
   "cell_type": "code",
   "execution_count": 51,
   "metadata": {},
   "outputs": [],
   "source": [
    "#get data function\n",
    "def getdata(path):\n",
    "    df_iris = pd.read_csv(path)\n",
    "    X = df_iris.iloc[:,1:5].values\n",
    "    X = torch.tensor(X, dtype=torch.float32)\n",
    "    enc = LabelEncoder()\n",
    "    y = enc.fit_transform(df_iris.Species)\n",
    "    y = torch.tensor(y, dtype=torch.float32)\n",
    "    return X, y\n",
    "\n",
    "def data_split(X,y, batch_size):\n",
    "    X_train, X_test, y_train, y_test = train_test_split(X,y, test_size=0.2, random_state=42)\n",
    "    test = TensorDataset(X_test, y_test)\n",
    "    X_training, X_val, y_training, y_val = train_test_split(X_train, y_train, test_size=0.2, random_state=42)\n",
    "    train = TensorDataset(X_training, y_training)\n",
    "    val = TensorDataset(X_val, y_val)\n",
    "\n",
    "    #data loader\n",
    "    train_loader = DataLoader(train, batch_size=batch_size, shuffle=False)\n",
    "    val_loader = DataLoader(val, batch_size=batch_size, shuffle=False)\n",
    "    test_loader = DataLoader(test, batch_size=batch_size, shuffle=False)\n",
    "\n",
    "    print(f'train size: {X_training.shape}, val size: {X_val.shape}, test size: {X_test.shape}')\n",
    "    return train_loader, val_loader, test_loader"
   ]
  },
  {
   "cell_type": "code",
   "execution_count": 3,
   "metadata": {},
   "outputs": [],
   "source": [
    "#define the model"
   ]
  },
  {
   "cell_type": "code",
   "execution_count": 4,
   "metadata": {},
   "outputs": [],
   "source": [
    "#train the model & validation"
   ]
  },
  {
   "cell_type": "code",
   "execution_count": 6,
   "metadata": {},
   "outputs": [],
   "source": [
    "#test the model"
   ]
  },
  {
   "cell_type": "code",
   "execution_count": 7,
   "metadata": {},
   "outputs": [],
   "source": [
    "#define the hyperparameter"
   ]
  },
  {
   "cell_type": "code",
   "execution_count": 52,
   "metadata": {},
   "outputs": [
    {
     "name": "stdout",
     "output_type": "stream",
     "text": [
      "train size: torch.Size([96, 4]), val size: torch.Size([24, 4]), test size: torch.Size([30, 4])\n"
     ]
    }
   ],
   "source": [
    "#run the program\n",
    "path = '../MachineL/data/Iris.csv'\n",
    "X,y = getdata(path)\n",
    "batch_size=5\n",
    "train, val, test = data_split(X,y, batch_size)\n"
   ]
  },
  {
   "cell_type": "code",
   "execution_count": 50,
   "metadata": {},
   "outputs": [
    {
     "name": "stdout",
     "output_type": "stream",
     "text": [
      "torch.Size([5, 4])\n",
      "torch.Size([5])\n"
     ]
    }
   ],
   "source": [
    "for X, y in val:\n",
    "    print(X.shape)\n",
    "    print(y.shape)\n",
    "    break"
   ]
  },
  {
   "cell_type": "code",
   "execution_count": 28,
   "metadata": {},
   "outputs": [
    {
     "name": "stderr",
     "output_type": "stream",
     "text": [
      "C:\\Users\\izhan\\AppData\\Local\\Temp\\ipykernel_10212\\1107634484.py:1: UserWarning: To copy construct from a tensor, it is recommended to use sourceTensor.clone().detach() or sourceTensor.clone().detach().requires_grad_(True), rather than torch.tensor(sourceTensor).\n",
      "  X = torch.tensor(X, dtype=torch.float32)\n"
     ]
    }
   ],
   "source": [
    "df_iris = pd.read_csv(path)\n",
    "#X = np.array(df_iris.drop(['Species'], axis=1))\n",
    "X1 = df_iris.iloc[:,1:5].values\n",
    "X2 = df_iris.values[:,1:5]\n",
    "X = torch.tensor(X, dtype=torch.float32)\n",
    "\n",
    "type(X1), type(X2)\n",
    "\n",
    "X = torch.tensor(X, dtype=torch.float32)\n",
    "enc = LabelEncoder()\n",
    "y = enc.fit_transform(df_iris.Species)\n",
    "y = torch.tensor(y, dtype=torch.float32)"
   ]
  },
  {
   "cell_type": "code",
   "execution_count": 29,
   "metadata": {},
   "outputs": [
    {
     "data": {
      "text/plain": [
       "tensor([0., 0., 0., 0., 0., 0., 0., 0., 0., 0., 0., 0., 0., 0., 0., 0., 0., 0.,\n",
       "        0., 0., 0., 0., 0., 0., 0., 0., 0., 0., 0., 0., 0., 0., 0., 0., 0., 0.,\n",
       "        0., 0., 0., 0., 0., 0., 0., 0., 0., 0., 0., 0., 0., 0., 1., 1., 1., 1.,\n",
       "        1., 1., 1., 1., 1., 1., 1., 1., 1., 1., 1., 1., 1., 1., 1., 1., 1., 1.,\n",
       "        1., 1., 1., 1., 1., 1., 1., 1., 1., 1., 1., 1., 1., 1., 1., 1., 1., 1.,\n",
       "        1., 1., 1., 1., 1., 1., 1., 1., 1., 1., 2., 2., 2., 2., 2., 2., 2., 2.,\n",
       "        2., 2., 2., 2., 2., 2., 2., 2., 2., 2., 2., 2., 2., 2., 2., 2., 2., 2.,\n",
       "        2., 2., 2., 2., 2., 2., 2., 2., 2., 2., 2., 2., 2., 2., 2., 2., 2., 2.,\n",
       "        2., 2., 2., 2., 2., 2.])"
      ]
     },
     "execution_count": 29,
     "metadata": {},
     "output_type": "execute_result"
    }
   ],
   "source": [
    "y"
   ]
  }
 ],
 "metadata": {
  "kernelspec": {
   "display_name": "base",
   "language": "python",
   "name": "python3"
  },
  "language_info": {
   "codemirror_mode": {
    "name": "ipython",
    "version": 3
   },
   "file_extension": ".py",
   "mimetype": "text/x-python",
   "name": "python",
   "nbconvert_exporter": "python",
   "pygments_lexer": "ipython3",
   "version": "3.11.5"
  }
 },
 "nbformat": 4,
 "nbformat_minor": 2
}
