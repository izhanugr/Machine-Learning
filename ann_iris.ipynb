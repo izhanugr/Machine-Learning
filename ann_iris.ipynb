{
 "cells": [
  {
   "cell_type": "code",
   "execution_count": 8,
   "metadata": {},
   "outputs": [],
   "source": [
    "#import libraries\n",
    "import pandas as pd\n",
    "import numpy as np\n",
    "import matplotlib.pyplot as plt\n",
    "import seaborn as sns\n",
    "\n",
    "from sklearn.preprocessing import StandardScaler, LabelEncoder\n",
    "from sklearn.metrics import confusion_matrix, ConfusionMatrixDisplay\n",
    "from sklearn.model_selection import train_test_split\n",
    "\n",
    "import torch\n",
    "import torch.nn as nn\n",
    "import torch.optim as optim\n",
    "from torch.utils.data import DataLoader, TensorDataset, Dataset\n",
    "\n",
    "\n",
    "%matplotlib widget"
   ]
  },
  {
   "cell_type": "code",
   "execution_count": 32,
   "metadata": {},
   "outputs": [],
   "source": [
    "#get data class\n",
    "class csvdataset(Dataset):\n",
    "    def __init__(self, path):\n",
    "        df_iris = pd.read_csv(path)\n",
    "        self.X = df_iris.iloc[:,1:5].values\n",
    "        self.X = torch.tensor(self.X, dtype=torch.float32)\n",
    "        enc = LabelEncoder()\n",
    "        self.y = enc.fit_transform(df_iris.Species)\n",
    "        self.y = torch.tensor(self.y, dtype=torch.float32)\n",
    "        \n",
    "    \n",
    "    def __len__(self):\n",
    "        return len(self.X)\n",
    "    \n",
    "    def __getitem__(self, index):\n",
    "        return self.X[index], self.y[index]\n"
   ]
  },
  {
   "cell_type": "code",
   "execution_count": 51,
   "metadata": {},
   "outputs": [],
   "source": [
    "#get data function\n",
    "def getdata(path):\n",
    "    df_iris = pd.read_csv(path)\n",
    "    X = df_iris.iloc[:,1:5].values\n",
    "    X = torch.tensor(X, dtype=torch.float32)\n",
    "    enc = LabelEncoder()\n",
    "    y = enc.fit_transform(df_iris.Species)\n",
    "    y = torch.tensor(y, dtype=torch.float32)\n",
    "    return X, y\n",
    "\n",
    "def data_split(X,y, batch_size):\n",
    "    X_train, X_test, y_train, y_test = train_test_split(X,y, test_size=0.2, random_state=42)\n",
    "    test = TensorDataset(X_test, y_test)\n",
    "    X_training, X_val, y_training, y_val = train_test_split(X_train, y_train, test_size=0.2, random_state=42)\n",
    "    train = TensorDataset(X_training, y_training)\n",
    "    val = TensorDataset(X_val, y_val)\n",
    "\n",
    "    #data loader\n",
    "    train_loader = DataLoader(train, batch_size=batch_size, shuffle=False)\n",
    "    val_loader = DataLoader(val, batch_size=batch_size, shuffle=False)\n",
    "    test_loader = DataLoader(test, batch_size=batch_size, shuffle=False)\n",
    "\n",
    "    print(f'train size: {X_training.shape}, val size: {X_val.shape}, test size: {X_test.shape}')\n",
    "    return train_loader, val_loader, test_loader"
   ]
  },
  {
   "cell_type": "code",
   "execution_count": 58,
   "metadata": {},
   "outputs": [],
   "source": [
    "#define the model\n",
    "class Dlnn(nn.Module):\n",
    "    def __init__(self,input_dim, hiddin_dim, output_dim):\n",
    "        super().__init__()\n",
    "        self.linear_relu_stack = nn.Sequential(\n",
    "            #1st hidden layer\n",
    "            nn.Linear(input_dim, hiddin_dim),\n",
    "            nn.ReLU(),\n",
    "            #2nd hidden layer\n",
    "            nn.Linear(hiddin_dim, hiddin_dim),\n",
    "            nn.ReLU(),\n",
    "            #3rd hidden layer\n",
    "            nn.Linear(hiddin_dim, output_dim),\n",
    "        )\n",
    "    \n",
    "    def forward(self, x):\n",
    "        logits = self.linear_relu_stack(x)\n",
    "        return logits"
   ]
  },
  {
   "cell_type": "code",
   "execution_count": 4,
   "metadata": {},
   "outputs": [],
   "source": [
    "#train the model\n",
    "def train_model(dataloader, model, loss_fn, optimizer):\n",
    "    \n"
   ]
  },
  {
   "cell_type": "code",
   "execution_count": 6,
   "metadata": {},
   "outputs": [],
   "source": [
    "#validation & test the model"
   ]
  },
  {
   "cell_type": "code",
   "execution_count": 53,
   "metadata": {},
   "outputs": [
    {
     "data": {
      "text/plain": [
       "0.001"
      ]
     },
     "execution_count": 53,
     "metadata": {},
     "output_type": "execute_result"
    }
   ],
   "source": [
    "#define the hyperparameter\n",
    "learning_rate = 1e-3\n",
    "epochs = 5\n",
    "input_dim = 4\n",
    "hidden_dim = 64\n",
    "output_dim = 3\n",
    "\n",
    "model = Dlnn(input_dim, hidden_dim, output_dim)\n",
    "loss_fn = nn.CrossEntropyLoss()\n",
    "optimizer = optim.Adamax(model.parameters(), lr=learning_rate)"
   ]
  },
  {
   "cell_type": "code",
   "execution_count": 52,
   "metadata": {},
   "outputs": [
    {
     "name": "stdout",
     "output_type": "stream",
     "text": [
      "train size: torch.Size([96, 4]), val size: torch.Size([24, 4]), test size: torch.Size([30, 4])\n"
     ]
    }
   ],
   "source": [
    "#run the program\n",
    "path = '../MachineL/data/Iris.csv'\n",
    "X,y = getdata(path)\n",
    "batch_size=5\n",
    "train, val, test = data_split(X,y, batch_size)\n",
    "\n"
   ]
  }
 ],
 "metadata": {
  "kernelspec": {
   "display_name": "base",
   "language": "python",
   "name": "python3"
  },
  "language_info": {
   "codemirror_mode": {
    "name": "ipython",
    "version": 3
   },
   "file_extension": ".py",
   "mimetype": "text/x-python",
   "name": "python",
   "nbconvert_exporter": "python",
   "pygments_lexer": "ipython3",
   "version": "3.11.5"
  }
 },
 "nbformat": 4,
 "nbformat_minor": 2
}
